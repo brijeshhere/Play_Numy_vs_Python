{
 "cells": [
  {
   "cell_type": "code",
   "execution_count": 1,
   "metadata": {},
   "outputs": [],
   "source": [
    "import numpy as np"
   ]
  },
  {
   "cell_type": "markdown",
   "metadata": {},
   "source": [
    "## Cross Pattern"
   ]
  },
  {
   "cell_type": "code",
   "execution_count": 3,
   "metadata": {},
   "outputs": [
    {
     "data": {
      "text/plain": [
       "array([[0, 0, 1, 0, 0],\n",
       "       [0, 0, 1, 0, 0],\n",
       "       [1, 1, 1, 1, 1],\n",
       "       [0, 0, 1, 0, 0],\n",
       "       [0, 0, 1, 0, 0]], dtype=uint8)"
      ]
     },
     "execution_count": 3,
     "metadata": {},
     "output_type": "execute_result"
    }
   ],
   "source": [
    "def cross(size):\n",
    "    arr=np.zeros((size,size),dtype=np.uint8)\n",
    "    arr[size//2,:]=1\n",
    "    arr[:,size//2]=1\n",
    "    return arr\n",
    "cross(5)"
   ]
  },
  {
   "cell_type": "markdown",
   "metadata": {},
   "source": [
    "## Hollow Square"
   ]
  },
  {
   "cell_type": "code",
   "execution_count": 4,
   "metadata": {},
   "outputs": [
    {
     "data": {
      "text/plain": [
       "array([[1, 1, 1, 1, 1, 1, 1],\n",
       "       [1, 0, 0, 0, 0, 0, 1],\n",
       "       [1, 0, 0, 0, 0, 0, 1],\n",
       "       [1, 0, 0, 0, 0, 0, 1],\n",
       "       [1, 0, 0, 0, 0, 0, 1],\n",
       "       [1, 0, 0, 0, 0, 0, 1],\n",
       "       [1, 1, 1, 1, 1, 1, 1]], dtype=uint8)"
      ]
     },
     "execution_count": 4,
     "metadata": {},
     "output_type": "execute_result"
    }
   ],
   "source": [
    "def hollow_square(size):\n",
    "    arr=np.zeros((size,size),dtype=np.uint8)\n",
    "    arr[0,:]=1\n",
    "    arr[-1,:]=1\n",
    "    arr[:,0]=1\n",
    "    arr[:,-1]=1\n",
    "    return arr\n",
    "hollow_square(7)"
   ]
  },
  {
   "cell_type": "markdown",
   "metadata": {},
   "source": [
    "## Upper triangle Matrix"
   ]
  },
  {
   "cell_type": "code",
   "execution_count": 21,
   "metadata": {},
   "outputs": [
    {
     "data": {
      "text/plain": [
       "array([['(0,0)', '(0,1)', '(0,2)', '(0,3)', '(0,4)'],\n",
       "       ['(1,0)', '(1,1)', '(1,2)', '(1,3)', '(1,4)'],\n",
       "       ['(2,0)', '(2,1)', '(2,2)', '(2,3)', '(2,4)'],\n",
       "       ['(3,0)', '(3,1)', '(3,2)', '(3,3)', '(3,4)'],\n",
       "       ['(4,0)', '(4,1)', '(4,2)', '(4,3)', '(4,4)']], dtype='<U7')"
      ]
     },
     "execution_count": 21,
     "metadata": {},
     "output_type": "execute_result"
    }
   ],
   "source": [
    "def mat_sum(size):\n",
    "    arr=np.full((size,size),fill_value='0',dtype='<U7')\n",
    "    for i in range(size):\n",
    "        for j in range(size):\n",
    "            sum_=i+j\n",
    "            arr[i,j]=f'({i},{j})'\n",
    "    return arr\n",
    "mat_sum(5)"
   ]
  },
  {
   "cell_type": "code",
   "execution_count": 26,
   "metadata": {},
   "outputs": [
    {
     "data": {
      "text/plain": [
       "array([[-1, -1, -1, -1, -1],\n",
       "       [ 0, -1, -1, -1, -1],\n",
       "       [ 0,  0, -1, -1, -1],\n",
       "       [ 0,  0,  0, -1, -1],\n",
       "       [ 0,  0,  0,  0, -1]], dtype=int8)"
      ]
     },
     "execution_count": 26,
     "metadata": {},
     "output_type": "execute_result"
    }
   ],
   "source": [
    "def upper_triangle(size):\n",
    "    arr=np.zeros((size,size),dtype=np.int8)\n",
    "    for i in range(size):\n",
    "        for j in range(size):\n",
    "            if i<=j:\n",
    "                arr[i,j]=-1\n",
    "    return arr\n",
    "upper_triangle(5)"
   ]
  },
  {
   "cell_type": "markdown",
   "metadata": {},
   "source": [
    "## Checkboard"
   ]
  },
  {
   "cell_type": "code",
   "execution_count": 27,
   "metadata": {},
   "outputs": [
    {
     "data": {
      "text/plain": [
       "array([[ 0, -1,  0, -1,  0],\n",
       "       [-1,  0, -1,  0, -1],\n",
       "       [ 0, -1,  0, -1,  0],\n",
       "       [-1,  0, -1,  0, -1],\n",
       "       [ 0, -1,  0, -1,  0]], dtype=int8)"
      ]
     },
     "execution_count": 27,
     "metadata": {},
     "output_type": "execute_result"
    }
   ],
   "source": [
    "def checkboard(size):\n",
    "    arr=np.zeros((size,size),dtype=np.int8)\n",
    "    for i in range(size):\n",
    "        for j in range(size):\n",
    "            if (i+j)%2!=0:\n",
    "                arr[i,j]=-1\n",
    "    return arr\n",
    "checkboard(5)"
   ]
  },
  {
   "cell_type": "markdown",
   "metadata": {},
   "source": [
    "## Diagonal Line matrix"
   ]
  },
  {
   "cell_type": "code",
   "execution_count": 28,
   "metadata": {},
   "outputs": [
    {
     "data": {
      "text/plain": [
       "array([[-1.,  0.,  0.,  0.,  0.],\n",
       "       [ 0., -1.,  0.,  0.,  0.],\n",
       "       [ 0.,  0., -1.,  0.,  0.],\n",
       "       [ 0.,  0.,  0., -1.,  0.],\n",
       "       [ 0.,  0.,  0.,  0., -1.]])"
      ]
     },
     "execution_count": 28,
     "metadata": {},
     "output_type": "execute_result"
    }
   ],
   "source": [
    "def diagonal_line(size):\n",
    "    arr=np.zeros((size,size))\n",
    "    for i in range(size):\n",
    "        for j in range(size):\n",
    "            if i==j:\n",
    "                arr[i,j]=-1\n",
    "    return arr\n",
    "diagonal_line(5)"
   ]
  },
  {
   "cell_type": "code",
   "execution_count": 30,
   "metadata": {},
   "outputs": [
    {
     "data": {
      "text/plain": [
       "array([[-1.,  0.,  0.,  0., -1.],\n",
       "       [ 0., -1.,  0., -1.,  0.],\n",
       "       [ 0.,  0., -1.,  0.,  0.],\n",
       "       [ 0., -1.,  0., -1.,  0.],\n",
       "       [-1.,  0.,  0.,  0., -1.]])"
      ]
     },
     "execution_count": 30,
     "metadata": {},
     "output_type": "execute_result"
    }
   ],
   "source": [
    "def X_line(size):\n",
    "    arr=np.zeros((size,size))\n",
    "    for i in range(size):\n",
    "        for j in range(size):\n",
    "            if i==j or (i+j)==size-1:\n",
    "                arr[i,j]=-1\n",
    "    return arr\n",
    "X_line(5)"
   ]
  },
  {
   "cell_type": "code",
   "execution_count": 32,
   "metadata": {},
   "outputs": [
    {
     "data": {
      "text/plain": [
       "array([[-1., -1., -1., -1., -1.],\n",
       "       [ 0., -1., -1., -1.,  0.],\n",
       "       [ 0.,  0., -1.,  0.,  0.],\n",
       "       [ 0.,  0.,  0.,  0.,  0.],\n",
       "       [ 0.,  0.,  0.,  0.,  0.]])"
      ]
     },
     "execution_count": 32,
     "metadata": {},
     "output_type": "execute_result"
    }
   ],
   "source": [
    "def inverted_pyramid(size):\n",
    "    arr=np.zeros((size,size))\n",
    "    for i in range(size):\n",
    "        for j in range(size):\n",
    "            if (i+j)<=size-1 and j>=i:\n",
    "                arr[i,j]=-1\n",
    "    return arr\n",
    "inverted_pyramid(5)"
   ]
  },
  {
   "cell_type": "code",
   "execution_count": 42,
   "metadata": {},
   "outputs": [
    {
     "name": "stdout",
     "output_type": "stream",
     "text": [
      "(1280, 577, 3)\n",
      "(128, 57, 3)\n"
     ]
    },
    {
     "data": {
      "application/vnd.plotly.v1+json": {
       "config": {
        "plotlyServerURL": "https://plot.ly"
       },
       "data": [
        {
         "hovertemplate": "x: %{x}<br>y: %{y}<br>color: [%{z[0]}, %{z[1]}, %{z[2]}]<extra></extra>",
         "name": "0",
         "source": "data:image/png;base64,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",
         "type": "image",
         "xaxis": "x",
         "yaxis": "y"
        }
       ],
       "layout": {
        "margin": {
         "t": 60
        },
        "template": {
         "data": {
          "bar": [
           {
            "error_x": {
             "color": "#2a3f5f"
            },
            "error_y": {
             "color": "#2a3f5f"
            },
            "marker": {
             "line": {
              "color": "#E5ECF6",
              "width": 0.5
             },
             "pattern": {
              "fillmode": "overlay",
              "size": 10,
              "solidity": 0.2
             }
            },
            "type": "bar"
           }
          ],
          "barpolar": [
           {
            "marker": {
             "line": {
              "color": "#E5ECF6",
              "width": 0.5
             },
             "pattern": {
              "fillmode": "overlay",
              "size": 10,
              "solidity": 0.2
             }
            },
            "type": "barpolar"
           }
          ],
          "carpet": [
           {
            "aaxis": {
             "endlinecolor": "#2a3f5f",
             "gridcolor": "white",
             "linecolor": "white",
             "minorgridcolor": "white",
             "startlinecolor": "#2a3f5f"
            },
            "baxis": {
             "endlinecolor": "#2a3f5f",
             "gridcolor": "white",
             "linecolor": "white",
             "minorgridcolor": "white",
             "startlinecolor": "#2a3f5f"
            },
            "type": "carpet"
           }
          ],
          "choropleth": [
           {
            "colorbar": {
             "outlinewidth": 0,
             "ticks": ""
            },
            "type": "choropleth"
           }
          ],
          "contour": [
           {
            "colorbar": {
             "outlinewidth": 0,
             "ticks": ""
            },
            "colorscale": [
             [
              0,
              "#0d0887"
             ],
             [
              0.1111111111111111,
              "#46039f"
             ],
             [
              0.2222222222222222,
              "#7201a8"
             ],
             [
              0.3333333333333333,
              "#9c179e"
             ],
             [
              0.4444444444444444,
              "#bd3786"
             ],
             [
              0.5555555555555556,
              "#d8576b"
             ],
             [
              0.6666666666666666,
              "#ed7953"
             ],
             [
              0.7777777777777778,
              "#fb9f3a"
             ],
             [
              0.8888888888888888,
              "#fdca26"
             ],
             [
              1,
              "#f0f921"
             ]
            ],
            "type": "contour"
           }
          ],
          "contourcarpet": [
           {
            "colorbar": {
             "outlinewidth": 0,
             "ticks": ""
            },
            "type": "contourcarpet"
           }
          ],
          "heatmap": [
           {
            "colorbar": {
             "outlinewidth": 0,
             "ticks": ""
            },
            "colorscale": [
             [
              0,
              "#0d0887"
             ],
             [
              0.1111111111111111,
              "#46039f"
             ],
             [
              0.2222222222222222,
              "#7201a8"
             ],
             [
              0.3333333333333333,
              "#9c179e"
             ],
             [
              0.4444444444444444,
              "#bd3786"
             ],
             [
              0.5555555555555556,
              "#d8576b"
             ],
             [
              0.6666666666666666,
              "#ed7953"
             ],
             [
              0.7777777777777778,
              "#fb9f3a"
             ],
             [
              0.8888888888888888,
              "#fdca26"
             ],
             [
              1,
              "#f0f921"
             ]
            ],
            "type": "heatmap"
           }
          ],
          "heatmapgl": [
           {
            "colorbar": {
             "outlinewidth": 0,
             "ticks": ""
            },
            "colorscale": [
             [
              0,
              "#0d0887"
             ],
             [
              0.1111111111111111,
              "#46039f"
             ],
             [
              0.2222222222222222,
              "#7201a8"
             ],
             [
              0.3333333333333333,
              "#9c179e"
             ],
             [
              0.4444444444444444,
              "#bd3786"
             ],
             [
              0.5555555555555556,
              "#d8576b"
             ],
             [
              0.6666666666666666,
              "#ed7953"
             ],
             [
              0.7777777777777778,
              "#fb9f3a"
             ],
             [
              0.8888888888888888,
              "#fdca26"
             ],
             [
              1,
              "#f0f921"
             ]
            ],
            "type": "heatmapgl"
           }
          ],
          "histogram": [
           {
            "marker": {
             "pattern": {
              "fillmode": "overlay",
              "size": 10,
              "solidity": 0.2
             }
            },
            "type": "histogram"
           }
          ],
          "histogram2d": [
           {
            "colorbar": {
             "outlinewidth": 0,
             "ticks": ""
            },
            "colorscale": [
             [
              0,
              "#0d0887"
             ],
             [
              0.1111111111111111,
              "#46039f"
             ],
             [
              0.2222222222222222,
              "#7201a8"
             ],
             [
              0.3333333333333333,
              "#9c179e"
             ],
             [
              0.4444444444444444,
              "#bd3786"
             ],
             [
              0.5555555555555556,
              "#d8576b"
             ],
             [
              0.6666666666666666,
              "#ed7953"
             ],
             [
              0.7777777777777778,
              "#fb9f3a"
             ],
             [
              0.8888888888888888,
              "#fdca26"
             ],
             [
              1,
              "#f0f921"
             ]
            ],
            "type": "histogram2d"
           }
          ],
          "histogram2dcontour": [
           {
            "colorbar": {
             "outlinewidth": 0,
             "ticks": ""
            },
            "colorscale": [
             [
              0,
              "#0d0887"
             ],
             [
              0.1111111111111111,
              "#46039f"
             ],
             [
              0.2222222222222222,
              "#7201a8"
             ],
             [
              0.3333333333333333,
              "#9c179e"
             ],
             [
              0.4444444444444444,
              "#bd3786"
             ],
             [
              0.5555555555555556,
              "#d8576b"
             ],
             [
              0.6666666666666666,
              "#ed7953"
             ],
             [
              0.7777777777777778,
              "#fb9f3a"
             ],
             [
              0.8888888888888888,
              "#fdca26"
             ],
             [
              1,
              "#f0f921"
             ]
            ],
            "type": "histogram2dcontour"
           }
          ],
          "mesh3d": [
           {
            "colorbar": {
             "outlinewidth": 0,
             "ticks": ""
            },
            "type": "mesh3d"
           }
          ],
          "parcoords": [
           {
            "line": {
             "colorbar": {
              "outlinewidth": 0,
              "ticks": ""
             }
            },
            "type": "parcoords"
           }
          ],
          "pie": [
           {
            "automargin": true,
            "type": "pie"
           }
          ],
          "scatter": [
           {
            "fillpattern": {
             "fillmode": "overlay",
             "size": 10,
             "solidity": 0.2
            },
            "type": "scatter"
           }
          ],
          "scatter3d": [
           {
            "line": {
             "colorbar": {
              "outlinewidth": 0,
              "ticks": ""
             }
            },
            "marker": {
             "colorbar": {
              "outlinewidth": 0,
              "ticks": ""
             }
            },
            "type": "scatter3d"
           }
          ],
          "scattercarpet": [
           {
            "marker": {
             "colorbar": {
              "outlinewidth": 0,
              "ticks": ""
             }
            },
            "type": "scattercarpet"
           }
          ],
          "scattergeo": [
           {
            "marker": {
             "colorbar": {
              "outlinewidth": 0,
              "ticks": ""
             }
            },
            "type": "scattergeo"
           }
          ],
          "scattergl": [
           {
            "marker": {
             "colorbar": {
              "outlinewidth": 0,
              "ticks": ""
             }
            },
            "type": "scattergl"
           }
          ],
          "scattermapbox": [
           {
            "marker": {
             "colorbar": {
              "outlinewidth": 0,
              "ticks": ""
             }
            },
            "type": "scattermapbox"
           }
          ],
          "scatterpolar": [
           {
            "marker": {
             "colorbar": {
              "outlinewidth": 0,
              "ticks": ""
             }
            },
            "type": "scatterpolar"
           }
          ],
          "scatterpolargl": [
           {
            "marker": {
             "colorbar": {
              "outlinewidth": 0,
              "ticks": ""
             }
            },
            "type": "scatterpolargl"
           }
          ],
          "scatterternary": [
           {
            "marker": {
             "colorbar": {
              "outlinewidth": 0,
              "ticks": ""
             }
            },
            "type": "scatterternary"
           }
          ],
          "surface": [
           {
            "colorbar": {
             "outlinewidth": 0,
             "ticks": ""
            },
            "colorscale": [
             [
              0,
              "#0d0887"
             ],
             [
              0.1111111111111111,
              "#46039f"
             ],
             [
              0.2222222222222222,
              "#7201a8"
             ],
             [
              0.3333333333333333,
              "#9c179e"
             ],
             [
              0.4444444444444444,
              "#bd3786"
             ],
             [
              0.5555555555555556,
              "#d8576b"
             ],
             [
              0.6666666666666666,
              "#ed7953"
             ],
             [
              0.7777777777777778,
              "#fb9f3a"
             ],
             [
              0.8888888888888888,
              "#fdca26"
             ],
             [
              1,
              "#f0f921"
             ]
            ],
            "type": "surface"
           }
          ],
          "table": [
           {
            "cells": {
             "fill": {
              "color": "#EBF0F8"
             },
             "line": {
              "color": "white"
             }
            },
            "header": {
             "fill": {
              "color": "#C8D4E3"
             },
             "line": {
              "color": "white"
             }
            },
            "type": "table"
           }
          ]
         },
         "layout": {
          "annotationdefaults": {
           "arrowcolor": "#2a3f5f",
           "arrowhead": 0,
           "arrowwidth": 1
          },
          "autotypenumbers": "strict",
          "coloraxis": {
           "colorbar": {
            "outlinewidth": 0,
            "ticks": ""
           }
          },
          "colorscale": {
           "diverging": [
            [
             0,
             "#8e0152"
            ],
            [
             0.1,
             "#c51b7d"
            ],
            [
             0.2,
             "#de77ae"
            ],
            [
             0.3,
             "#f1b6da"
            ],
            [
             0.4,
             "#fde0ef"
            ],
            [
             0.5,
             "#f7f7f7"
            ],
            [
             0.6,
             "#e6f5d0"
            ],
            [
             0.7,
             "#b8e186"
            ],
            [
             0.8,
             "#7fbc41"
            ],
            [
             0.9,
             "#4d9221"
            ],
            [
             1,
             "#276419"
            ]
           ],
           "sequential": [
            [
             0,
             "#0d0887"
            ],
            [
             0.1111111111111111,
             "#46039f"
            ],
            [
             0.2222222222222222,
             "#7201a8"
            ],
            [
             0.3333333333333333,
             "#9c179e"
            ],
            [
             0.4444444444444444,
             "#bd3786"
            ],
            [
             0.5555555555555556,
             "#d8576b"
            ],
            [
             0.6666666666666666,
             "#ed7953"
            ],
            [
             0.7777777777777778,
             "#fb9f3a"
            ],
            [
             0.8888888888888888,
             "#fdca26"
            ],
            [
             1,
             "#f0f921"
            ]
           ],
           "sequentialminus": [
            [
             0,
             "#0d0887"
            ],
            [
             0.1111111111111111,
             "#46039f"
            ],
            [
             0.2222222222222222,
             "#7201a8"
            ],
            [
             0.3333333333333333,
             "#9c179e"
            ],
            [
             0.4444444444444444,
             "#bd3786"
            ],
            [
             0.5555555555555556,
             "#d8576b"
            ],
            [
             0.6666666666666666,
             "#ed7953"
            ],
            [
             0.7777777777777778,
             "#fb9f3a"
            ],
            [
             0.8888888888888888,
             "#fdca26"
            ],
            [
             1,
             "#f0f921"
            ]
           ]
          },
          "colorway": [
           "#636efa",
           "#EF553B",
           "#00cc96",
           "#ab63fa",
           "#FFA15A",
           "#19d3f3",
           "#FF6692",
           "#B6E880",
           "#FF97FF",
           "#FECB52"
          ],
          "font": {
           "color": "#2a3f5f"
          },
          "geo": {
           "bgcolor": "white",
           "lakecolor": "white",
           "landcolor": "#E5ECF6",
           "showlakes": true,
           "showland": true,
           "subunitcolor": "white"
          },
          "hoverlabel": {
           "align": "left"
          },
          "hovermode": "closest",
          "mapbox": {
           "style": "light"
          },
          "paper_bgcolor": "white",
          "plot_bgcolor": "#E5ECF6",
          "polar": {
           "angularaxis": {
            "gridcolor": "white",
            "linecolor": "white",
            "ticks": ""
           },
           "bgcolor": "#E5ECF6",
           "radialaxis": {
            "gridcolor": "white",
            "linecolor": "white",
            "ticks": ""
           }
          },
          "scene": {
           "xaxis": {
            "backgroundcolor": "#E5ECF6",
            "gridcolor": "white",
            "gridwidth": 2,
            "linecolor": "white",
            "showbackground": true,
            "ticks": "",
            "zerolinecolor": "white"
           },
           "yaxis": {
            "backgroundcolor": "#E5ECF6",
            "gridcolor": "white",
            "gridwidth": 2,
            "linecolor": "white",
            "showbackground": true,
            "ticks": "",
            "zerolinecolor": "white"
           },
           "zaxis": {
            "backgroundcolor": "#E5ECF6",
            "gridcolor": "white",
            "gridwidth": 2,
            "linecolor": "white",
            "showbackground": true,
            "ticks": "",
            "zerolinecolor": "white"
           }
          },
          "shapedefaults": {
           "line": {
            "color": "#2a3f5f"
           }
          },
          "ternary": {
           "aaxis": {
            "gridcolor": "white",
            "linecolor": "white",
            "ticks": ""
           },
           "baxis": {
            "gridcolor": "white",
            "linecolor": "white",
            "ticks": ""
           },
           "bgcolor": "#E5ECF6",
           "caxis": {
            "gridcolor": "white",
            "linecolor": "white",
            "ticks": ""
           }
          },
          "title": {
           "x": 0.05
          },
          "xaxis": {
           "automargin": true,
           "gridcolor": "white",
           "linecolor": "white",
           "ticks": "",
           "title": {
            "standoff": 15
           },
           "zerolinecolor": "white",
           "zerolinewidth": 2
          },
          "yaxis": {
           "automargin": true,
           "gridcolor": "white",
           "linecolor": "white",
           "ticks": "",
           "title": {
            "standoff": 15
           },
           "zerolinecolor": "white",
           "zerolinewidth": 2
          }
         }
        },
        "xaxis": {
         "anchor": "y",
         "domain": [
          0,
          1
         ]
        },
        "yaxis": {
         "anchor": "x",
         "domain": [
          0,
          1
         ]
        }
       }
      }
     },
     "metadata": {},
     "output_type": "display_data"
    }
   ],
   "source": [
    "import numpy as np\n",
    "import cv2\n",
    "import matplotlib.pyplot as plt\n",
    "\n",
    "def resize_image(image, scale_x, scale_y):\n",
    "    # Get original dimensions\n",
    "    original_height, original_width = image.shape[:2]\n",
    "\n",
    "    # Calculate new dimensions\n",
    "    new_width = int(original_width * scale_x)\n",
    "    new_height = int(original_height * scale_y)\n",
    "\n",
    "    # Create an empty array for the resized image\n",
    "    resized_image = np.zeros((new_height, new_width, image.shape[2]), dtype=image.dtype)\n",
    "\n",
    "    # Scale factor for coordinate mapping\n",
    "    for i in range(new_height):\n",
    "        for j in range(new_width):\n",
    "            # Calculate original coordinates\n",
    "            orig_x = int(j / scale_x)\n",
    "            orig_y = int(i / scale_y)\n",
    "\n",
    "            # Check bounds\n",
    "            orig_x = min(orig_x, original_width - 1)\n",
    "            orig_y = min(orig_y, original_height - 1)\n",
    "\n",
    "            # Assign pixel value\n",
    "            resized_image[i, j] = image[orig_y, orig_x]\n",
    "\n",
    "    return resized_image\n",
    "\n",
    "# Load an image using OpenCV\n",
    "image_path = 'C:/Users/Windows/Desktop/hello/Play_Numy_vs_Python/level_1/image.jpg'  # Replace with your image path\n",
    "image = cv2.imread(image_path)\n",
    "image = cv2.cvtColor(image, cv2.COLOR_BGR2RGB)  # Convert BGR to RGB\n",
    "\n",
    "# Set scale factors\n",
    "scale_x = 0.1  # Resize width to 50%\n",
    "scale_y = 0.1  # Resize height to 50%\n",
    "\n",
    "# Resize the image\n",
    "resized_image_ = resize_image(image, scale_x, scale_y)\n",
    "\n",
    "# # Plot the original and resized images\n",
    "# plt.figure(figsize=(10, 5))\n",
    "# plt.subplot(1, 2, 1)\n",
    "# plt.title('Original Image')\n",
    "# plt.imshow(image)\n",
    "# plt.axis('off')\n",
    "\n",
    "# plt.subplot(1, 2, 2)\n",
    "# plt.title('Resized Image')\n",
    "# plt.imshow(resized_image)\n",
    "# plt.axis('off')\n",
    "\n",
    "# plt.show()\n",
    "import plotly.express as px\n",
    "print(image.shape)\n",
    "print(resized_image_.shape)\n",
    "px.imshow(resized_image_)\n",
    "\n"
   ]
  }
 ],
 "metadata": {
  "kernelspec": {
   "display_name": "env_opencv",
   "language": "python",
   "name": "python3"
  },
  "language_info": {
   "codemirror_mode": {
    "name": "ipython",
    "version": 3
   },
   "file_extension": ".py",
   "mimetype": "text/x-python",
   "name": "python",
   "nbconvert_exporter": "python",
   "pygments_lexer": "ipython3",
   "version": "3.12.5"
  }
 },
 "nbformat": 4,
 "nbformat_minor": 2
}
